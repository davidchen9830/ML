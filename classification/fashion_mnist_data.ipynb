{
 "cells": [
  {
   "cell_type": "markdown",
   "metadata": {},
   "source": [
    "## Tensorflow"
   ]
  },
  {
   "cell_type": "code",
   "execution_count": 71,
   "metadata": {},
   "outputs": [
    {
     "data": {
      "text/plain": [
       "'2.3.0'"
      ]
     },
     "execution_count": 71,
     "metadata": {},
     "output_type": "execute_result"
    }
   ],
   "source": [
    "import tensorflow as tf\n",
    "import numpy as np\n",
    "import matplotlib.pyplot as plt\n",
    "\n",
    "tf.__version__"
   ]
  },
  {
   "cell_type": "code",
   "execution_count": 72,
   "metadata": {},
   "outputs": [
    {
     "name": "stdout",
     "output_type": "stream",
     "text": [
      "(60000, 28, 28) (60000,)\n"
     ]
    }
   ],
   "source": [
    "fashion_mnist = tf.keras.datasets.fashion_mnist\n",
    "\n",
    "(X_train, y_train), (X_test, y_test) = fashion_mnist.load_data()\n",
    "\n",
    "print(X_train.shape, y_train.shape)"
   ]
  },
  {
   "cell_type": "code",
   "execution_count": 73,
   "metadata": {},
   "outputs": [
    {
     "name": "stdout",
     "output_type": "stream",
     "text": [
      "(60000, 784) (60000,)\n"
     ]
    }
   ],
   "source": [
    "X_train = X_train.reshape((len(X_train), -1))\n",
    "X_test = X_test.reshape((len(X_test), -1))\n",
    "\n",
    "X_train = np.asarray(X_train, dtype=np.float32)\n",
    "X_test = np.asarray(X_test, dtype=np.float32)\n",
    "\n",
    "y_train = np.asarray(y_train, dtype=np.int32)\n",
    "y_test = np.asarray(y_test, dtype=np.int32)\n",
    "\n",
    "epochs = 100\n",
    "\n",
    "print(X_train.shape, y_train.shape)"
   ]
  },
  {
   "cell_type": "code",
   "execution_count": 74,
   "metadata": {},
   "outputs": [],
   "source": [
    "from sklearn import preprocessing\n",
    "\n",
    "scaler = preprocessing.StandardScaler()\n",
    "X_train = scaler.fit_transform(X_train)\n",
    "X_test = scaler.fit_transform(X_test) # Center and Normalize"
   ]
  },
  {
   "cell_type": "code",
   "execution_count": 75,
   "metadata": {},
   "outputs": [],
   "source": [
    "def one_hot(num_classes, y):\n",
    "    return np.eye(num_classes)[y]\n",
    "\n",
    "# Acurracy\n",
    "def accuracy(y_pred, y_true):\n",
    "    return np.mean(y_pred == y_true)"
   ]
  },
  {
   "cell_type": "code",
   "execution_count": 76,
   "metadata": {},
   "outputs": [],
   "source": [
    "class NeuralNet:\n",
    "    def __init__(self, input_shape):\n",
    "        initializer = tf.keras.initializers.GlorotUniform()\n",
    "        \n",
    "        self.w1 = tf.Variable(initializer(shape=(input_shape, 50)))\n",
    "        self.b1 = tf.Variable(tf.zeros([50]))\n",
    "        \n",
    "        self.w2 = tf.Variable(initializer(shape=(50, 10)))\n",
    "        self.b2 = tf.Variable(tf.zeros([10]))\n",
    "        \n",
    "    def __call__(self, inputs):\n",
    "        return self.forward(inputs)\n",
    "    \n",
    "    def forward(self, inputs):\n",
    "        z1 = tf.matmul(inputs, self.w1) + self.b1\n",
    "        a1 = tf.keras.activations.relu(z1)\n",
    "        \n",
    "        z2 = tf.matmul(z1, self.w2) + self.b2\n",
    "        a2 = tf.keras.activations.softmax(z2)\n",
    "        \n",
    "        return a2\n",
    "    \n",
    "    def train(self, X_train, y_train,\n",
    "             epochs=10,\n",
    "             batch_size = 32):\n",
    "        # Batch dataset\n",
    "        dataset = tf.data.Dataset.from_tensor_slices((X_train, y_train))\n",
    "        dataset = dataset.shuffle(buffer_size=10000, seed=42)\n",
    "        dataset = dataset.batch(batch_size=batch_size)\n",
    "        # Loss Function\n",
    "        loss_fn = tf.keras.losses.CategoricalCrossentropy(from_logits=True)\n",
    "        # Optimizer\n",
    "        optimizer = tf.keras.optimizers.Adam()\n",
    "        \n",
    "        losses = []\n",
    "        \n",
    "        for e in range(epochs):\n",
    "            for (inputs, targets) in dataset:\n",
    "                targets = one_hot(10, targets)\n",
    "                with tf.GradientTape() as tape:\n",
    "                    output = self.forward(inputs)\n",
    "                    loss = loss_fn(output, targets)\n",
    "                    losses.append(loss)\n",
    "                variables = [self.w1, self.b1, self.w2, self.b2]\n",
    "                grads = tape.gradient(loss, variables)\n",
    "                optimizer.apply_gradients(zip(grads, variables))\n",
    "        return losses"
   ]
  },
  {
   "cell_type": "code",
   "execution_count": 77,
   "metadata": {},
   "outputs": [
    {
     "name": "stdout",
     "output_type": "stream",
     "text": [
      "0.8436\n",
      "CPU times: user 19min 35s, sys: 44.1 s, total: 20min 19s\n",
      "Wall time: 16min 43s\n"
     ]
    },
    {
     "data": {
      "text/plain": [
       "[<matplotlib.lines.Line2D at 0x7f999822dba8>]"
      ]
     },
     "execution_count": 77,
     "metadata": {},
     "output_type": "execute_result"
    },
    {
     "data": {
      "image/png": "[encoded data removed]",
      "text/plain": [
       "<Figure size 432x288 with 1 Axes>"
      ]
     },
     "metadata": {
      "needs_background": "light"
     },
     "output_type": "display_data"
    }
   ],
   "source": [
    "%%time\n",
    "\n",
    "model = NeuralNet(X_train.shape[1])\n",
    "losses = model.train(X_train, y_train, epochs)\n",
    "\n",
    "pred_y = model.forward(X_test)\n",
    "pred_y = np.argmax(pred_y, axis=1)\n",
    "print(accuracy(pred_y, y_test))\n",
    "\n",
    "plt.plot(losses)"
   ]
  },
  {
   "cell_type": "markdown",
   "metadata": {},
   "source": [
    "## Keras"
   ]
  },
  {
   "cell_type": "code",
   "execution_count": 78,
   "metadata": {},
   "outputs": [
    {
     "name": "stdout",
     "output_type": "stream",
     "text": [
      "0.8678\n",
      "CPU times: user 4min 43s, sys: 36.8 s, total: 5min 20s\n",
      "Wall time: 2min 1s\n"
     ]
    }
   ],
   "source": [
    "%%time\n",
    "\n",
    "model = tf.keras.models.Sequential()\n",
    "model.add(tf.keras.layers.Dense(50, input_dim=X_train.shape[1], activation='relu'))\n",
    "model.add(tf.keras.layers.Dense(10, activation='softmax'))\n",
    "model.compile(optimizer='adam',\n",
    "             loss=tf.keras.losses.SparseCategoricalCrossentropy(),\n",
    "             metrics=['accuracy'])\n",
    "\n",
    "model.fit(X_train, y_train, validation_split=0.2, epochs=epochs, verbose=False)\n",
    "pred_y = model.predict(X_test)\n",
    "pred_y = np.argmax(pred_y, axis=1)\n",
    "cluster data into k clusters\n",
    "print(accuracy(pred_y, y_test))"
   ]
  },
  {
   "cell_type": "code",
   "execution_count": 79,
   "metadata": {},
   "outputs": [
    {
     "name": "stdout",
     "output_type": "stream",
     "text": [
      "0.8678\n"
     ]
    }
   ],
   "source": [
    "pred_y = model.predict(X_test)\n",
    "pred_y = np.argmax(pred_y, axis=1)\n",
    "\n",
    "print(accuracy(pred_y, y_test))"
   ]
  },
  {
   "cell_type": "markdown",
   "metadata": {},
   "source": [
    "## PyTorch"
   ]
  },
  {
   "cell_type": "code",
   "execution_count": 80,
   "metadata": {},
   "outputs": [],
   "source": [
    "import torch\n",
    "from torch.utils.data import DataLoader"
   ]
  },
  {
   "cell_type": "code",
   "execution_count": 81,
   "metadata": {},
   "outputs": [],
   "source": [
    "def gen_dataset(x, y, batch_size=32):\n",
    "    train_data = []\n",
    "    for i in range(len(x)):\n",
    "        train_data.append([x[i], y[i]])\n",
    "    return DataLoader(train_data, batch_size=batch_size, shuffle=True)"
   ]
  },
  {
   "cell_type": "code",
   "execution_count": 82,
   "metadata": {},
   "outputs": [
    {
     "name": "stdout",
     "output_type": "stream",
     "text": [
      "CPU times: user 12min 12s, sys: 0 ns, total: 12min 12s\n",
      "Wall time: 3min 3s\n"
     ]
    }
   ],
   "source": [
    "%%time\n",
    "model = torch.nn.Sequential(\n",
    "    torch.nn.Linear(X_train.shape[1], 50),\n",
    "    torch.nn.ReLU(),\n",
    "    torch.nn.Linear(50, 10)\n",
    ")\n",
    "\n",
    "loss_fn = torch.nn.CrossEntropyLoss()\n",
    "optimizer = torch.optim.Adam(model.parameters(), lr = 0.001) # Keras lr\n",
    "train_dl = gen_dataset(X_train, y_train)\n",
    "\n",
    "for e in range(epochs):\n",
    "    for (inputs, targets) in train_dl:\n",
    "        y_pred = model(inputs)\n",
    "        \n",
    "        loss = loss_fn(y_pred, targets.type(torch.long))\n",
    "        \n",
    "        optimizer.zero_grad()\n",
    "        loss.backward()\n",
    "        optimizer.step()"
   ]
  },
  {
   "cell_type": "code",
   "execution_count": 83,
   "metadata": {},
   "outputs": [
    {
     "name": "stdout",
     "output_type": "stream",
     "text": [
      "0.8627\n"
     ]
    }
   ],
   "source": [
    "pred_y = torch.nn.Softmax(dim=1)(model(torch.tensor(X_test))).detach().numpy()\n",
    "pred_y = np.argmax(pred_y, axis=1)\n",
    "\n",
    "print(accuracy(pred_y, y_test))"
   ]
  },
  {
   "cell_type": "markdown",
   "metadata": {},
   "source": [
    "## Classic classifier"
   ]
  },
  {
   "cell_type": "code",
   "execution_count": 84,
   "metadata": {},
   "outputs": [
    {
     "name": "stdout",
     "output_type": "stream",
     "text": [
      "0.8766\n",
      "CPU times: user 1min 23s, sys: 0 ns, total: 1min 23s\n",
      "Wall time: 1min 23s\n"
     ]
    }
   ],
   "source": [
    "%%time\n",
    "from sklearn.ensemble import RandomForestClassifier\n",
    "\n",
    "rfm = RandomForestClassifier() # We don't tweak any values\n",
    "rfm.fit(X_train, y_train)\n",
    "\n",
    "pred_y = rfm.predict(X_test)\n",
    "print(accuracy(pred_y, y_test)) "
   ]
  },
  {
   "cell_type": "code",
   "execution_count": 85,
   "metadata": {},
   "outputs": [
    {
     "name": "stdout",
     "output_type": "stream",
     "text": [
      "0.1754\n",
      "CPU times: user 4min 12s, sys: 1min 42s, total: 5min 54s\n",
      "Wall time: 47 s\n"
     ]
    }
   ],
   "source": [
    "%%time\n",
    "from sklearn.cluster import KMeans\n",
    "kmeans = KMeans(n_clusters=10, random_state=0).fit(X_train)\n",
    "\n",
    "pred_y = kmeans.predict(X_test)\n",
    "print(accuracy(pred_y, y_test))"
   ]
  },
  {
   "cell_type": "code",
   "execution_count": null,
   "metadata": {},
   "outputs": [],
   "source": []
  }
 ],
 "metadata": {
  "kernelspec": {
   "display_name": "Python 3",
   "language": "python",
   "name": "python3"
  },
  "language_info": {
   "codemirror_mode": {
    "name": "ipython",
    "version": 3
   },
   "file_extension": ".py",
   "mimetype": "text/x-python",
   "name": "python",
   "nbconvert_exporter": "python",
   "pygments_lexer": "ipython3",
   "version": "3.6.9"
  }
 },
 "nbformat": 4,
 "nbformat_minor": 2
}
