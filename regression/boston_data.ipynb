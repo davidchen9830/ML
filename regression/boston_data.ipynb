{
 "cells": [
  {
   "cell_type": "markdown",
   "metadata": {},
   "source": [
    "## With Tensorflow"
   ]
  },
  {
   "cell_type": "code",
   "execution_count": 181,
   "metadata": {},
   "outputs": [],
   "source": [
    "import numpy as np\n",
    "import tensorflow as tf"
   ]
  },
  {
   "cell_type": "code",
   "execution_count": 182,
   "metadata": {},
   "outputs": [],
   "source": [
    "def gen_dataset(x, y, batch_size=128):\n",
    "    dataset = tf.data.Dataset.from_tensor_slices((x, y))\n",
    "    dataset = dataset.shuffle(buffer_size=10000, seed=42)\n",
    "    dataset = dataset.batch(batch_size=batch_size)\n",
    "    \n",
    "    return dataset\n",
    "\n",
    "def accuracy(y_pred, y):\n",
    "    return np.mean(abs(y_pred - y)) # Mean Absolute Error | MAE\n",
    "\n",
    "def test_model(model, x, y):\n",
    "    dataset = gen_dataset(x, y)\n",
    "    preds, targets = [], []\n",
    "    \n",
    "    for batch_x, batch_y in dataset:\n",
    "        preds.append(model(batch_x).numpy())\n",
    "        targets.append(batch_y.numpy())\n",
    "     \n",
    "    preds, targets = np.concatenate(preds), np.concatenate(targets)\n",
    "    return accuracy(preds, targets)"
   ]
  },
  {
   "cell_type": "code",
   "execution_count": 186,
   "metadata": {},
   "outputs": [],
   "source": [
    "class NeuralNet:\n",
    "    def __init__(self, input_shape):\n",
    "        # We take glorot initializer\n",
    "        initializer = tf.keras.initializers.GlorotUniform()\n",
    "        \n",
    "        self.w1 = tf.Variable(initializer(shape=(input_shape, 128)))\n",
    "        self.b1 = tf.Variable(tf.zeros([128]))\n",
    "        \n",
    "        self.w2 = tf.Variable(initializer(shape=(128, 64)))\n",
    "        self.b2 = tf.Variable(tf.zeros([64]))\n",
    "        \n",
    "        self.w3 = tf.Variable(initializer(shape=(64, 1)))\n",
    "        self.b3 = tf.Variable(tf.zeros([1]))\n",
    "        \n",
    "    def __call__(self, inputs):\n",
    "        return self.forward(inputs)\n",
    "        \n",
    "    def forward(self, inputs):\n",
    "        z1 = tf.matmul(inputs, self.w1) + self.b1\n",
    "        a1 = tf.keras.activations.relu(z1)\n",
    "        \n",
    "        z2 = tf.matmul(a1, self.w2) + self.b2\n",
    "        a2 = tf.keras.activations.relu(z2)\n",
    "        \n",
    "        z3 = tf.matmul(a2, self.w3) + self.b3\n",
    "        a3 = tf.keras.activations.linear(z3)\n",
    "        \n",
    "        return a3\n",
    "    \n",
    "    def train(self, X_train, y_train,\n",
    "             num_epochs = 10,\n",
    "             batch_size = 32):\n",
    "        optimizer = tf.keras.optimizers.Adam()\n",
    "        loss_fn = tf.keras.losses.MeanSquaredError()\n",
    "        \n",
    "        losses = []\n",
    "        for e in range(num_epochs):\n",
    "            train_dataset = gen_dataset(X_train, y_train, batch_size)\n",
    "            \n",
    "            for batch_x, batch_y in train_dataset:\n",
    "                with tf.GradientTape() as tape:\n",
    "                    output = self.forward(batch_x)\n",
    "                    loss = loss_fn(output, batch_y)\n",
    "                    losses.append(loss.numpy())\n",
    "                variables = [self.w1, self.b1,\n",
    "                            self.w2, self.b2,\n",
    "                            self.w3, self.b3]\n",
    "                \n",
    "                grads = tape.gradient(loss, variables)\n",
    "                optimizer.apply_gradients(zip(grads, variables), experimental_aggregate_gradients=False)\n",
    "        return losses, val_losses"
   ]
  },
  {
   "cell_type": "code",
   "execution_count": 187,
   "metadata": {},
   "outputs": [
    {
     "data": {
      "text/plain": [
       "(((430, 13), (430,)), ((76, 13), (76,)))"
      ]
     },
     "execution_count": 187,
     "metadata": {},
     "output_type": "execute_result"
    }
   ],
   "source": [
    "from sklearn.datasets import load_boston\n",
    "from sklearn import preprocessing\n",
    "from sklearn.model_selection import train_test_split\n",
    "\n",
    "boston = load_boston() # Iris only have 3 classes\n",
    "\n",
    "data = np.asarray(boston.data, dtype='float32')\n",
    "target = np.asarray(boston.target, dtype='float32')\n",
    "\n",
    "X_train, X_test, y_train, y_test = train_test_split(data, target,\n",
    "                                                    test_size=0.15,\n",
    "                                                   random_state=37)\n",
    "# We put a random state to have reproducible results\n",
    "\n",
    "scaler = preprocessing.StandardScaler()\n",
    "X_train = scaler.fit_transform(X_train) # Center and normalize\n",
    "X_test = scaler.fit_transform(X_test)\n",
    "\n",
    "(X_train.shape, y_train.shape), (X_test.shape, y_test.shape)"
   ]
  },
  {
   "cell_type": "code",
   "execution_count": 192,
   "metadata": {},
   "outputs": [],
   "source": [
    "model = NeuralNet(X_train.shape[1])\n",
    "losses, val_losses = model.train(X_train, y_train,\n",
    "                        num_epochs=100)"
   ]
  },
  {
   "cell_type": "code",
   "execution_count": 193,
   "metadata": {},
   "outputs": [
    {
     "data": {
      "text/plain": [
       "[<matplotlib.lines.Line2D at 0x7f771aa627b8>]"
      ]
     },
     "execution_count": 193,
     "metadata": {},
     "output_type": "execute_result"
    },
    {
     "data": {
      "image/png": "[encoded data removed]",
      "text/plain": [
       "<Figure size 432x288 with 1 Axes>"
      ]
     },
     "metadata": {
      "needs_background": "light"
     },
     "output_type": "display_data"
    }
   ],
   "source": [
    "import matplotlib.pyplot as plt\n",
    "\n",
    "plt.plot(losses)"
   ]
  },
  {
   "cell_type": "code",
   "execution_count": 194,
   "metadata": {},
   "outputs": [
    {
     "name": "stdout",
     "output_type": "stream",
     "text": [
      "Error:  5.346259\n"
     ]
    },
    {
     "data": {
      "image/png": "[encoded data removed]",
      "text/plain": [
       "<Figure size 432x288 with 1 Axes>"
      ]
     },
     "metadata": {
      "needs_background": "light"
     },
     "output_type": "display_data"
    }
   ],
   "source": [
    "from sklearn.metrics import mean_squared_error\n",
    "\n",
    "y_train_pred = model(X_train).numpy()\n",
    "print(\"Error: \", mean_squared_error(y_train, y_train_pred).mean())\n",
    "\n",
    "y_pred = model(X_test).numpy() # We take the RELu one\n",
    "x = np.arange(0, len(X_test))\n",
    "plt.scatter(x, y_pred, color='red') # Prediction\n",
    "plt.scatter(x, y_test, color='green')\n",
    "\n",
    "plt.show()"
   ]
  },
  {
   "cell_type": "markdown",
   "metadata": {},
   "source": [
    "## With Keras"
   ]
  },
  {
   "cell_type": "code",
   "execution_count": 29,
   "metadata": {},
   "outputs": [
    {
     "name": "stdout",
     "output_type": "stream",
     "text": [
      "Epoch 1/100\n",
      "14/14 [==============================] - 0s 691us/step - loss: 558.7441\n",
      "Epoch 2/100\n",
      "14/14 [==============================] - 0s 930us/step - loss: 482.8298\n",
      "Epoch 3/100\n",
      "14/14 [==============================] - 0s 942us/step - loss: 379.4813\n",
      "Epoch 4/100\n",
      "14/14 [==============================] - 0s 1ms/step - loss: 243.6204\n",
      "Epoch 5/100\n",
      "14/14 [==============================] - 0s 1ms/step - loss: 116.0341\n",
      "Epoch 6/100\n",
      "14/14 [==============================] - 0s 1ms/step - loss: 59.5836\n",
      "Epoch 7/100\n",
      "14/14 [==============================] - 0s 1ms/step - loss: 40.8698\n",
      "Epoch 8/100\n",
      "14/14 [==============================] - 0s 993us/step - loss: 28.6263\n",
      "Epoch 9/100\n",
      "14/14 [==============================] - 0s 981us/step - loss: 23.7993\n",
      "Epoch 10/100\n",
      "14/14 [==============================] - 0s 977us/step - loss: 21.1701\n",
      "Epoch 11/100\n",
      "14/14 [==============================] - 0s 1ms/step - loss: 19.5672\n",
      "Epoch 12/100\n",
      "14/14 [==============================] - 0s 930us/step - loss: 18.3265\n",
      "Epoch 13/100\n",
      "14/14 [==============================] - 0s 1ms/step - loss: 17.2705\n",
      "Epoch 14/100\n",
      "14/14 [==============================] - 0s 1ms/step - loss: 16.2759\n",
      "Epoch 15/100\n",
      "14/14 [==============================] - 0s 981us/step - loss: 15.4804\n",
      "Epoch 16/100\n",
      "14/14 [==============================] - 0s 976us/step - loss: 14.6788\n",
      "Epoch 17/100\n",
      "14/14 [==============================] - 0s 972us/step - loss: 14.0631\n",
      "Epoch 18/100\n",
      "14/14 [==============================] - 0s 1ms/step - loss: 13.5082\n",
      "Epoch 19/100\n",
      "14/14 [==============================] - 0s 967us/step - loss: 12.9740\n",
      "Epoch 20/100\n",
      "14/14 [==============================] - 0s 1ms/step - loss: 12.5299\n",
      "Epoch 21/100\n",
      "14/14 [==============================] - 0s 960us/step - loss: 12.0433\n",
      "Epoch 22/100\n",
      "14/14 [==============================] - 0s 1ms/step - loss: 11.8012\n",
      "Epoch 23/100\n",
      "14/14 [==============================] - 0s 1ms/step - loss: 11.4209\n",
      "Epoch 24/100\n",
      "14/14 [==============================] - 0s 1ms/step - loss: 11.0719\n",
      "Epoch 25/100\n",
      "14/14 [==============================] - 0s 1ms/step - loss: 10.8861\n",
      "Epoch 26/100\n",
      "14/14 [==============================] - 0s 1ms/step - loss: 10.5839\n",
      "Epoch 27/100\n",
      "14/14 [==============================] - 0s 1ms/step - loss: 10.2630\n",
      "Epoch 28/100\n",
      "14/14 [==============================] - 0s 987us/step - loss: 10.1453\n",
      "Epoch 29/100\n",
      "14/14 [==============================] - 0s 1ms/step - loss: 9.8781\n",
      "Epoch 30/100\n",
      "14/14 [==============================] - 0s 1ms/step - loss: 9.7550\n",
      "Epoch 31/100\n",
      "14/14 [==============================] - 0s 923us/step - loss: 9.5221\n",
      "Epoch 32/100\n",
      "14/14 [==============================] - 0s 981us/step - loss: 9.4065\n",
      "Epoch 33/100\n",
      "14/14 [==============================] - 0s 1ms/step - loss: 9.3073\n",
      "Epoch 34/100\n",
      "14/14 [==============================] - 0s 1ms/step - loss: 9.1268\n",
      "Epoch 35/100\n",
      "14/14 [==============================] - 0s 1ms/step - loss: 9.0476\n",
      "Epoch 36/100\n",
      "14/14 [==============================] - 0s 982us/step - loss: 8.9270\n",
      "Epoch 37/100\n",
      "14/14 [==============================] - 0s 1ms/step - loss: 8.7859\n",
      "Epoch 38/100\n",
      "14/14 [==============================] - 0s 1ms/step - loss: 8.7167\n",
      "Epoch 39/100\n",
      "14/14 [==============================] - 0s 1ms/step - loss: 8.5739\n",
      "Epoch 40/100\n",
      "14/14 [==============================] - 0s 1ms/step - loss: 8.6779\n",
      "Epoch 41/100\n",
      "14/14 [==============================] - 0s 1ms/step - loss: 8.4541\n",
      "Epoch 42/100\n",
      "14/14 [==============================] - 0s 1ms/step - loss: 8.3470\n",
      "Epoch 43/100\n",
      "14/14 [==============================] - 0s 1ms/step - loss: 8.1979\n",
      "Epoch 44/100\n",
      "14/14 [==============================] - 0s 1ms/step - loss: 8.1413\n",
      "Epoch 45/100\n",
      "14/14 [==============================] - 0s 1ms/step - loss: 8.0572\n",
      "Epoch 46/100\n",
      "14/14 [==============================] - 0s 1ms/step - loss: 8.0345\n",
      "Epoch 47/100\n",
      "14/14 [==============================] - 0s 1ms/step - loss: 7.8815\n",
      "Epoch 48/100\n",
      "14/14 [==============================] - 0s 1ms/step - loss: 7.9301\n",
      "Epoch 49/100\n",
      "14/14 [==============================] - 0s 1ms/step - loss: 7.8080\n",
      "Epoch 50/100\n",
      "14/14 [==============================] - 0s 1ms/step - loss: 7.8391\n",
      "Epoch 51/100\n",
      "14/14 [==============================] - 0s 1ms/step - loss: 7.7238\n",
      "Epoch 52/100\n",
      "14/14 [==============================] - 0s 2ms/step - loss: 7.6476\n",
      "Epoch 53/100\n",
      "14/14 [==============================] - 0s 914us/step - loss: 7.5191\n",
      "Epoch 54/100\n",
      "14/14 [==============================] - 0s 1ms/step - loss: 7.4580\n",
      "Epoch 55/100\n",
      "14/14 [==============================] - 0s 952us/step - loss: 7.7000\n",
      "Epoch 56/100\n",
      "14/14 [==============================] - 0s 859us/step - loss: 7.5505\n",
      "Epoch 57/100\n",
      "14/14 [==============================] - 0s 881us/step - loss: 7.3461\n",
      "Epoch 58/100\n",
      "14/14 [==============================] - 0s 966us/step - loss: 7.2306\n",
      "Epoch 59/100\n",
      "14/14 [==============================] - 0s 908us/step - loss: 7.2353\n",
      "Epoch 60/100\n",
      "14/14 [==============================] - 0s 929us/step - loss: 7.1307\n",
      "Epoch 61/100\n",
      "14/14 [==============================] - 0s 1ms/step - loss: 7.1029\n",
      "Epoch 62/100\n",
      "14/14 [==============================] - 0s 1ms/step - loss: 7.0937\n",
      "Epoch 63/100\n",
      "14/14 [==============================] - 0s 953us/step - loss: 6.9593\n",
      "Epoch 64/100\n",
      "14/14 [==============================] - 0s 1ms/step - loss: 6.9425\n",
      "Epoch 65/100\n",
      "14/14 [==============================] - 0s 1ms/step - loss: 6.8754\n",
      "Epoch 66/100\n",
      "14/14 [==============================] - 0s 946us/step - loss: 6.7943\n",
      "Epoch 67/100\n",
      "14/14 [==============================] - 0s 998us/step - loss: 6.7485\n",
      "Epoch 68/100\n",
      "14/14 [==============================] - 0s 935us/step - loss: 6.7821\n",
      "Epoch 69/100\n",
      "14/14 [==============================] - 0s 944us/step - loss: 6.7148\n",
      "Epoch 70/100\n",
      "14/14 [==============================] - 0s 853us/step - loss: 6.7046\n",
      "Epoch 71/100\n",
      "14/14 [==============================] - 0s 912us/step - loss: 6.6965\n",
      "Epoch 72/100\n",
      "14/14 [==============================] - 0s 964us/step - loss: 6.5968\n",
      "Epoch 73/100\n",
      "14/14 [==============================] - 0s 987us/step - loss: 6.5160\n",
      "Epoch 74/100\n",
      "14/14 [==============================] - 0s 1ms/step - loss: 6.5346\n",
      "Epoch 75/100\n",
      "14/14 [==============================] - 0s 922us/step - loss: 6.4257\n",
      "Epoch 76/100\n",
      "14/14 [==============================] - 0s 960us/step - loss: 6.3455\n",
      "Epoch 77/100\n",
      "14/14 [==============================] - 0s 911us/step - loss: 6.3620\n",
      "Epoch 78/100\n",
      "14/14 [==============================] - 0s 934us/step - loss: 6.3489\n",
      "Epoch 79/100\n",
      "14/14 [==============================] - 0s 952us/step - loss: 6.3727\n",
      "Epoch 80/100\n",
      "14/14 [==============================] - 0s 957us/step - loss: 6.3216\n",
      "Epoch 81/100\n",
      "14/14 [==============================] - 0s 948us/step - loss: 6.3805\n",
      "Epoch 82/100\n",
      "14/14 [==============================] - 0s 969us/step - loss: 6.1247\n",
      "Epoch 83/100\n",
      "14/14 [==============================] - 0s 938us/step - loss: 6.1269\n",
      "Epoch 84/100\n",
      "14/14 [==============================] - 0s 1ms/step - loss: 6.0917\n",
      "Epoch 85/100\n",
      "14/14 [==============================] - 0s 934us/step - loss: 6.0335\n",
      "Epoch 86/100\n",
      "14/14 [==============================] - 0s 979us/step - loss: 6.1249\n",
      "Epoch 87/100\n",
      "14/14 [==============================] - 0s 970us/step - loss: 6.0340\n",
      "Epoch 88/100\n",
      "14/14 [==============================] - 0s 914us/step - loss: 6.0060\n",
      "Epoch 89/100\n",
      "14/14 [==============================] - 0s 934us/step - loss: 5.9254\n",
      "Epoch 90/100\n",
      "14/14 [==============================] - 0s 950us/step - loss: 5.8371\n",
      "Epoch 91/100\n",
      "14/14 [==============================] - 0s 947us/step - loss: 5.8530\n",
      "Epoch 92/100\n",
      "14/14 [==============================] - 0s 994us/step - loss: 5.8007\n",
      "Epoch 93/100\n",
      "14/14 [==============================] - 0s 923us/step - loss: 5.6918\n",
      "Epoch 94/100\n",
      "14/14 [==============================] - 0s 988us/step - loss: 5.8487\n",
      "Epoch 95/100\n",
      "14/14 [==============================] - 0s 929us/step - loss: 5.9028\n",
      "Epoch 96/100\n",
      "14/14 [==============================] - 0s 923us/step - loss: 5.6631\n",
      "Epoch 97/100\n",
      "14/14 [==============================] - 0s 1ms/step - loss: 5.5945\n",
      "Epoch 98/100\n",
      "14/14 [==============================] - 0s 886us/step - loss: 5.7018\n",
      "Epoch 99/100\n",
      "14/14 [==============================] - 0s 968us/step - loss: 5.5107\n",
      "Epoch 100/100\n",
      "14/14 [==============================] - 0s 906us/step - loss: 5.5504\n"
     ]
    },
    {
     "data": {
      "text/plain": [
       "<tensorflow.python.keras.callbacks.History at 0x7efe2058b518>"
      ]
     },
     "execution_count": 29,
     "metadata": {},
     "output_type": "execute_result"
    }
   ],
   "source": [
    "from tensorflow.keras.models import Sequential\n",
    "from tensorflow.keras.layers import Dense\n",
    "\n",
    "model = Sequential()\n",
    "model.add(Dense(128, input_dim=X_train.shape[1], activation='relu'))\n",
    "model.add(Dense(64, activation='relu'))\n",
    "model.add(Dense(1, activation='linear'))\n",
    "\n",
    "model.compile(optimizer=\"adam\", loss=\"mse\")\n",
    "\n",
    "model.fit(X_train, y_train, epochs=100)"
   ]
  },
  {
   "cell_type": "code",
   "execution_count": 30,
   "metadata": {},
   "outputs": [
    {
     "name": "stdout",
     "output_type": "stream",
     "text": [
      "Error:  5.362169\n"
     ]
    },
    {
     "data": {
      "image/png": "[encoded data removed]",
      "text/plain": [
       "<Figure size 432x288 with 1 Axes>"
      ]
     },
     "metadata": {
      "needs_background": "light"
     },
     "output_type": "display_data"
    }
   ],
   "source": [
    "y_train_pred = model(X_train).numpy()\n",
    "print(\"Error: \", mean_squared_error(y_train, y_train_pred).mean())\n",
    "\n",
    "y_pred = model(X_test).numpy() # We take the RELu one\n",
    "x = np.arange(0, len(X_test))\n",
    "plt.scatter(x, y_pred, color='red') # Prediction\n",
    "plt.scatter(x, y_test, color='green')\n",
    "\n",
    "plt.show()"
   ]
  },
  {
   "cell_type": "code",
   "execution_count": 32,
   "metadata": {},
   "outputs": [],
   "source": [
    "### Why are results so different ?"
   ]
  },
  {
   "cell_type": "markdown",
   "metadata": {},
   "source": [
    "## With PyTorch"
   ]
  },
  {
   "cell_type": "code",
   "execution_count": 35,
   "metadata": {},
   "outputs": [],
   "source": [
    "import torch\n",
    "from torch.utils.data import DataLoader\n",
    "\n",
    "def gen_dataset(x, y, batch_size=32):\n",
    "    train_data = []\n",
    "    for i in range(len(x)):\n",
    "        train_data.append([x[i], y[i]])\n",
    "    return DataLoader(train_data, batch_size = batch_size, shuffle = True)"
   ]
  },
  {
   "cell_type": "code",
   "execution_count": 38,
   "metadata": {},
   "outputs": [],
   "source": [
    "# Simplified version\n",
    "model = torch.nn.Sequential(\n",
    "    torch.nn.Linear(X_train.shape[1], 128),\n",
    "    torch.nn.ReLU(),\n",
    "    torch.nn.Linear(128, 64),\n",
    "    torch.nn.ReLU(),\n",
    "    torch.nn.Linear(64, 1)\n",
    ")\n",
    "num_epochs = 100\n",
    "loss_fn = torch.nn.MSELoss(reduction='sum')\n",
    "optimizer = torch.optim.Adam(model.parameters(), lr=0.001) # Default LR for Keras\n",
    "train_dl = gen_dataset(X_train, y_train)\n",
    "for i in range(num_epochs):\n",
    "    for (inputs, targets) in train_dl:\n",
    "        y_pred = model(inputs)\n",
    "        loss = loss_fn(y_pred, targets.reshape(-1, 1))\n",
    "        \n",
    "        optimizer.zero_grad()\n",
    "        loss.backward()\n",
    "        optimizer.step()"
   ]
  },
  {
   "cell_type": "code",
   "execution_count": 41,
   "metadata": {},
   "outputs": [
    {
     "name": "stdout",
     "output_type": "stream",
     "text": [
      "Error:  5.459994\n"
     ]
    },
    {
     "data": {
      "image/png": "[encoded data removed]",
      "text/plain": [
       "<Figure size 432x288 with 1 Axes>"
      ]
     },
     "metadata": {
      "needs_background": "light"
     },
     "output_type": "display_data"
    }
   ],
   "source": [
    "y_train_pred = model(torch.tensor(X_train)).detach().numpy()\n",
    "print(\"Error: \", mean_squared_error(y_train, y_train_pred).mean())\n",
    "\n",
    "y_pred = model(torch.tensor(X_test)).detach().numpy() # We take the RELu one\n",
    "x = np.arange(0, len(X_test))\n",
    "plt.scatter(x, y_pred, color='red') # Prediction\n",
    "plt.scatter(x, y_test, color='green')\n",
    "\n",
    "plt.show()"
   ]
  },
  {
   "cell_type": "code",
   "execution_count": 72,
   "metadata": {},
   "outputs": [
    {
     "name": "stdout",
     "output_type": "stream",
     "text": [
      "Error:  17.368946\n"
     ]
    },
    {
     "data": {
      "image/png": "[encoded data removed]",
      "text/plain": [
       "<Figure size 432x288 with 1 Axes>"
      ]
     },
     "metadata": {
      "needs_background": "light"
     },
     "output_type": "display_data"
    }
   ],
   "source": [
    "from sklearn.linear_model import LinearRegression\n",
    "from sklearn.metrics import mean_squared_error\n",
    "\n",
    "clf = LinearRegression()\n",
    "clf.fit(X_train, y_train)\n",
    "# Error\n",
    "y_train_pred = clf.predict(X_train)\n",
    "print(\"Error: \", mean_squared_error(y_train, y_train_pred).mean())\n",
    "\n",
    "\n",
    "y_pred = clf.predict(X_test)\n",
    "x = np.arange(0, len(X_test))\n",
    "plt.scatter(x, y_pred, color='red') # Prediction\n",
    "plt.scatter(x, y_test, color='green')\n",
    "\n",
    "plt.show()"
   ]
  },
  {
   "cell_type": "markdown",
   "metadata": {},
   "source": [
    "## Neural Network performs better than LinearRegression !"
   ]
  },
  {
   "cell_type": "code",
   "execution_count": null,
   "metadata": {},
   "outputs": [],
   "source": []
  }
 ],
 "metadata": {
  "kernelspec": {
   "display_name": "Python 3",
   "language": "python",
   "name": "python3"
  },
  "language_info": {
   "codemirror_mode": {
    "name": "ipython",
    "version": 3
   },
   "file_extension": ".py",
   "mimetype": "text/x-python",
   "name": "python",
   "nbconvert_exporter": "python",
   "pygments_lexer": "ipython3",
   "version": "3.6.9"
  }
 },
 "nbformat": 4,
 "nbformat_minor": 2
}
