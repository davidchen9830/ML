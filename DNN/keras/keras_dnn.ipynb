{
 "cells": [
  {
   "cell_type": "code",
   "execution_count": 35,
   "metadata": {},
   "outputs": [
    {
     "data": {
      "text/plain": [
       "Text(0.5, 1.0, 'Image Label: 0')"
      ]
     },
     "execution_count": 35,
     "metadata": {},
     "output_type": "execute_result"
    },
    {
     "data": {
      "image/png": "[encoded data removed]",
      "text/plain": [
       "<Figure size 216x216 with 1 Axes>"
      ]
     },
     "metadata": {
      "needs_background": "light"
     },
     "output_type": "display_data"
    }
   ],
   "source": [
    "from sklearn.datasets import load_digits\n",
    "import numpy as np\n",
    "import matplotlib.pyplot as plt\n",
    "\n",
    "digits = load_digits()\n",
    "\n",
    "sample_idx = 0\n",
    "\n",
    "plt.figure(figsize=(3,3))\n",
    "plt.imshow(digits.images[sample_idx], cmap=plt.cm.gray_r,\n",
    "          interpolation='nearest')\n",
    "\n",
    "plt.title(f\"Image Label: {digits.target[sample_idx]}\")"
   ]
  },
  {
   "cell_type": "code",
   "execution_count": 36,
   "metadata": {},
   "outputs": [
    {
     "data": {
      "text/plain": [
       "(((1527, 64), (1527,)), ((270, 64), (270,)))"
      ]
     },
     "execution_count": 36,
     "metadata": {},
     "output_type": "execute_result"
    }
   ],
   "source": [
    "from sklearn import preprocessing\n",
    "from sklearn.model_selection import train_test_split\n",
    "\n",
    "data = np.asarray(digits.data, dtype='float32')\n",
    "target = np.asarray(digits.target, dtype='int32')\n",
    "\n",
    "X_train, X_test, y_train, y_test = train_test_split(data, target,\n",
    "                                                    test_size=0.15,\n",
    "                                                   random_state=37)\n",
    "# We put a random state to have reproducible results\n",
    "\n",
    "scaler = preprocessing.StandardScaler()\n",
    "X_train = scaler.fit_transform(X_train) # Center and normalize\n",
    "X_test = scaler.fit_transform(X_test)\n",
    "\n",
    "(X_train.shape, y_train.shape), (X_test.shape, y_test.shape)"
   ]
  },
  {
   "cell_type": "code",
   "execution_count": 37,
   "metadata": {},
   "outputs": [],
   "source": [
    "import tensorflow as tf\n",
    "from tensorflow.keras import layers\n",
    "from tensorflow.keras import activations\n",
    "from tensorflow.keras import optimizers"
   ]
  },
  {
   "cell_type": "code",
   "execution_count": 38,
   "metadata": {},
   "outputs": [],
   "source": [
    "def format_activations(layers, activations):\n",
    "    # We should and always have n - 1 elts in activations if layers has n\n",
    "    l = []\n",
    "    i = 0\n",
    "    while (i < len(layers) - 2):\n",
    "        if (i < len(activations) - 1):\n",
    "            l.append(activations[i])\n",
    "        else: # We consider that the last layer should be kept for the last\n",
    "            l.append(activations[len(activations) - 2])\n",
    "        i += 1\n",
    "    l.append(activations[len(activations) - 1])\n",
    "    return l"
   ]
  },
  {
   "cell_type": "code",
   "execution_count": 93,
   "metadata": {},
   "outputs": [],
   "source": [
    "class L_Layer_Model:\n",
    "    def __init__(self, l, activations):\n",
    "        activations = format_activations(l, activations)\n",
    "        self.model = tf.keras.Sequential()\n",
    "        for i in range(1, len(l)):\n",
    "            self.model.add(layers.Dense(l[i], input_dim=l[i - 1], activation=activations[i -1]))\n",
    "            \n",
    "    def train(self, x, y,\n",
    "              loss_fn = tf.keras.losses.SparseCategoricalCrossentropy(from_logits=True),\n",
    "              optimizer = optimizers.SGD(learning_rate = 0.1, momentum=0.9, nesterov=True),\n",
    "              batch_size=32, \n",
    "              epochs=10, \n",
    "              verbose=True,\n",
    "             metrics='accuracy'):\n",
    "        self.model.compile(optimizer=optimizer, loss=loss_fn, metrics=[metrics])\n",
    "        self.model.fit(x, y, validation_split=0.0, batch_size=batch_size, epochs=epochs, verbose=verbose)\n",
    "        \n",
    "    def predict(self, x):\n",
    "        return self.model.predict(x)"
   ]
  },
  {
   "cell_type": "code",
   "execution_count": 40,
   "metadata": {},
   "outputs": [
    {
     "name": "stdout",
     "output_type": "stream",
     "text": [
      "Activations:  ['relu', 'softmax']\n",
      "Epoch 1/10\n",
      "39/39 [==============================] - 0s 3ms/step - loss: 2.1105 - accuracy: 0.3833 - val_loss: 1.8550 - val_accuracy: 0.6569\n",
      "Epoch 2/10\n",
      "39/39 [==============================] - 0s 1ms/step - loss: 1.7143 - accuracy: 0.7846 - val_loss: 1.6015 - val_accuracy: 0.8889\n",
      "Epoch 3/10\n",
      "39/39 [==============================] - 0s 1ms/step - loss: 1.5892 - accuracy: 0.8984 - val_loss: 1.5721 - val_accuracy: 0.9052\n",
      "Epoch 4/10\n",
      "39/39 [==============================] - 0s 1ms/step - loss: 1.5333 - accuracy: 0.9410 - val_loss: 1.5399 - val_accuracy: 0.9379\n",
      "Epoch 5/10\n",
      "39/39 [==============================] - 0s 1ms/step - loss: 1.5134 - accuracy: 0.9607 - val_loss: 1.5281 - val_accuracy: 0.9444\n",
      "Epoch 6/10\n",
      "39/39 [==============================] - 0s 1ms/step - loss: 1.5011 - accuracy: 0.9730 - val_loss: 1.5183 - val_accuracy: 0.9575\n",
      "Epoch 7/10\n",
      "39/39 [==============================] - 0s 1ms/step - loss: 1.4913 - accuracy: 0.9787 - val_loss: 1.5054 - val_accuracy: 0.9706\n",
      "Epoch 8/10\n",
      "39/39 [==============================] - 0s 1ms/step - loss: 1.4855 - accuracy: 0.9861 - val_loss: 1.5052 - val_accuracy: 0.9641\n",
      "Epoch 9/10\n",
      "39/39 [==============================] - 0s 1ms/step - loss: 1.4814 - accuracy: 0.9885 - val_loss: 1.5017 - val_accuracy: 0.9706\n",
      "Epoch 10/10\n",
      "39/39 [==============================] - 0s 1ms/step - loss: 1.4791 - accuracy: 0.9885 - val_loss: 1.5005 - val_accuracy: 0.9673\n",
      "\n",
      "Activations:  ['sigmoid', 'softmax']\n",
      "Epoch 1/10\n",
      "39/39 [==============================] - 0s 4ms/step - loss: 2.2819 - accuracy: 0.2211 - val_loss: 2.2554 - val_accuracy: 0.3039\n",
      "Epoch 2/10\n",
      "39/39 [==============================] - 0s 1ms/step - loss: 2.1983 - accuracy: 0.3374 - val_loss: 2.1732 - val_accuracy: 0.3497\n",
      "Epoch 3/10\n",
      "39/39 [==============================] - 0s 1ms/step - loss: 2.1094 - accuracy: 0.3915 - val_loss: 2.1146 - val_accuracy: 0.3595\n",
      "Epoch 4/10\n",
      "39/39 [==============================] - 0s 1ms/step - loss: 2.0492 - accuracy: 0.4242 - val_loss: 2.0484 - val_accuracy: 0.4641\n",
      "Epoch 5/10\n",
      "39/39 [==============================] - 0s 1ms/step - loss: 1.9802 - accuracy: 0.5381 - val_loss: 2.0011 - val_accuracy: 0.5033\n",
      "Epoch 6/10\n",
      "39/39 [==============================] - 0s 1ms/step - loss: 1.9226 - accuracy: 0.5823 - val_loss: 1.9499 - val_accuracy: 0.5588\n",
      "Epoch 7/10\n",
      "39/39 [==============================] - 0s 1ms/step - loss: 1.8491 - accuracy: 0.7183 - val_loss: 1.8545 - val_accuracy: 0.6928\n",
      "Epoch 8/10\n",
      "39/39 [==============================] - 0s 1ms/step - loss: 1.7746 - accuracy: 0.7641 - val_loss: 1.8093 - val_accuracy: 0.7026\n",
      "Epoch 9/10\n",
      "39/39 [==============================] - 0s 1ms/step - loss: 1.7373 - accuracy: 0.7748 - val_loss: 1.7857 - val_accuracy: 0.7092\n",
      "Epoch 10/10\n",
      "39/39 [==============================] - 0s 1ms/step - loss: 1.7143 - accuracy: 0.7838 - val_loss: 1.7534 - val_accuracy: 0.7680\n",
      "\n",
      "Activations:  ['tanh', 'softmax']\n",
      "Epoch 1/10\n",
      "39/39 [==============================] - 0s 3ms/step - loss: 2.1432 - accuracy: 0.4062 - val_loss: 1.9202 - val_accuracy: 0.6209\n",
      "Epoch 2/10\n",
      "39/39 [==============================] - 0s 1ms/step - loss: 1.7833 - accuracy: 0.7445 - val_loss: 1.7182 - val_accuracy: 0.8105\n",
      "Epoch 3/10\n",
      "39/39 [==============================] - 0s 1ms/step - loss: 1.6371 - accuracy: 0.8911 - val_loss: 1.6037 - val_accuracy: 0.9052\n",
      "Epoch 4/10\n",
      "39/39 [==============================] - 0s 1ms/step - loss: 1.5668 - accuracy: 0.9378 - val_loss: 1.5749 - val_accuracy: 0.9248\n",
      "Epoch 5/10\n",
      "39/39 [==============================] - 0s 1ms/step - loss: 1.5377 - accuracy: 0.9550 - val_loss: 1.5503 - val_accuracy: 0.9510\n",
      "Epoch 6/10\n",
      "39/39 [==============================] - 0s 1ms/step - loss: 1.5215 - accuracy: 0.9664 - val_loss: 1.5433 - val_accuracy: 0.9346\n",
      "Epoch 7/10\n",
      "39/39 [==============================] - 0s 1ms/step - loss: 1.5105 - accuracy: 0.9713 - val_loss: 1.5331 - val_accuracy: 0.9542\n",
      "Epoch 8/10\n",
      "39/39 [==============================] - 0s 1ms/step - loss: 1.5061 - accuracy: 0.9754 - val_loss: 1.5320 - val_accuracy: 0.9477\n",
      "Epoch 9/10\n",
      "39/39 [==============================] - 0s 1ms/step - loss: 1.4979 - accuracy: 0.9803 - val_loss: 1.5286 - val_accuracy: 0.9542\n",
      "Epoch 10/10\n",
      "39/39 [==============================] - 0s 1ms/step - loss: 1.4928 - accuracy: 0.9820 - val_loss: 1.5287 - val_accuracy: 0.9510\n",
      "\n"
     ]
    }
   ],
   "source": [
    "hidden_size = 15\n",
    "\n",
    "activations_list = [\n",
    "    ['relu', 'softmax'],\n",
    "    ['sigmoid', 'softmax'],\n",
    "    ['tanh', 'softmax']\n",
    "]\n",
    "\n",
    "l = [X_train.shape[1], 15, 10]\n",
    "\n",
    "for activations in activations_list:\n",
    "    model = L_Layer_Model(l, activations)\n",
    "    print(\"Activations: \", activations)\n",
    "    model.train(X_train, y_train)\n",
    "    print()\n",
    "    "
   ]
  },
  {
   "cell_type": "code",
   "execution_count": 94,
   "metadata": {},
   "outputs": [
    {
     "data": {
      "text/plain": [
       "(((430, 13), (430,)), ((76, 13), (76,)))"
      ]
     },
     "execution_count": 94,
     "metadata": {},
     "output_type": "execute_result"
    }
   ],
   "source": [
    "from sklearn.datasets import load_boston\n",
    "from sklearn import preprocessing\n",
    "from sklearn.model_selection import train_test_split\n",
    "\n",
    "boston = load_boston() # Iris only have 3 classes\n",
    "\n",
    "data = np.asarray(boston.data, dtype='float32')\n",
    "target = np.asarray(boston.target, dtype='float32')\n",
    "\n",
    "X_train, X_test, y_train, y_test = train_test_split(data, target,\n",
    "                                                    test_size=0.15,\n",
    "                                                   random_state=37)\n",
    "# We put a random state to have reproducible results\n",
    "\n",
    "scaler = preprocessing.StandardScaler()\n",
    "X_train = scaler.fit_transform(X_train) # Center and normalize\n",
    "X_test = scaler.fit_transform(X_test)\n",
    "\n",
    "(X_train.shape, y_train.shape), (X_test.shape, y_test.shape)"
   ]
  },
  {
   "cell_type": "code",
   "execution_count": 104,
   "metadata": {},
   "outputs": [
    {
     "name": "stdout",
     "output_type": "stream",
     "text": [
      "Activations:  ['relu', 'linear']\n",
      "\n"
     ]
    }
   ],
   "source": [
    "activations_list = [\n",
    "    ['relu', 'linear']\n",
    "]\n",
    "\n",
    "l = [X_train.shape[1], 128, 64, 1]\n",
    "# optimizer = optimizers.SGD(learning_rate = 0.1, momentum=0.9, nesterov=True)\n",
    "optimizer = optimizers.Adam()\n",
    "\n",
    "for activations in activations_list:\n",
    "    model = L_Layer_Model(l, activations)\n",
    "    print(\"Activations: \", activations)\n",
    "    model.train(X_train, y_train, loss_fn = tf.keras.losses.MSE,\n",
    "               optimizer = optimizer, epochs = 100, metrics='mae',\n",
    "               batch_size=32, verbose=False)\n",
    "    print()\n",
    "    "
   ]
  },
  {
   "cell_type": "code",
   "execution_count": 105,
   "metadata": {},
   "outputs": [
    {
     "name": "stdout",
     "output_type": "stream",
     "text": [
      "Error:  4.61684\n"
     ]
    },
    {
     "data": {
      "image/png": "[encoded data removed]",
      "text/plain": [
       "<Figure size 432x288 with 1 Axes>"
      ]
     },
     "metadata": {
      "needs_background": "light"
     },
     "output_type": "display_data"
    }
   ],
   "source": [
    "from sklearn.metrics import mean_squared_error\n",
    "import matplotlib.pyplot as plt\n",
    "\n",
    "y_train_pred = model.predict(X_train)\n",
    "print(\"Error: \", mean_squared_error(y_train, y_train_pred).mean())\n",
    "\n",
    "y_pred = model.predict(X_test)\n",
    "x = np.arange(0, len(X_test))\n",
    "plt.scatter(x, y_pred, color='red') # Prediction\n",
    "plt.scatter(x, y_test, color='green')\n",
    "\n",
    "plt.show()\n",
    "\n",
    "## Basically we are overfitting, let's add some regularization, let's say L1 regularization to maybe silence some variables"
   ]
  },
  {
   "cell_type": "code",
   "execution_count": null,
   "metadata": {},
   "outputs": [],
   "source": []
  }
 ],
 "metadata": {
  "kernelspec": {
   "display_name": "Python 3",
   "language": "python",
   "name": "python3"
  },
  "language_info": {
   "codemirror_mode": {
    "name": "ipython",
    "version": 3
   },
   "file_extension": ".py",
   "mimetype": "text/x-python",
   "name": "python",
   "nbconvert_exporter": "python",
   "pygments_lexer": "ipython3",
   "version": "3.6.9"
  }
 },
 "nbformat": 4,
 "nbformat_minor": 2
}
