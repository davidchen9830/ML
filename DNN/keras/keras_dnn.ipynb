{
 "cells": [
  {
   "cell_type": "code",
   "execution_count": 1,
   "metadata": {},
   "outputs": [
    {
     "data": {
      "text/plain": [
       "Text(0.5, 1.0, 'Image Label: 0')"
      ]
     },
     "execution_count": 1,
     "metadata": {},
     "output_type": "execute_result"
    },
    {
     "data": {
      "image/png": "[encoded data removed]",
      "text/plain": [
       "<Figure size 216x216 with 1 Axes>"
      ]
     },
     "metadata": {
      "needs_background": "light"
     },
     "output_type": "display_data"
    }
   ],
   "source": [
    "from sklearn.datasets import load_digits\n",
    "import numpy as np\n",
    "import matplotlib.pyplot as plt\n",
    "\n",
    "digits = load_digits()\n",
    "\n",
    "sample_idx = 0\n",
    "\n",
    "plt.figure(figsize=(3,3))\n",
    "plt.imshow(digits.images[sample_idx], cmap=plt.cm.gray_r,\n",
    "          interpolation='nearest')\n",
    "\n",
    "plt.title(f\"Image Label: {digits.target[sample_idx]}\")"
   ]
  },
  {
   "cell_type": "code",
   "execution_count": 2,
   "metadata": {},
   "outputs": [
    {
     "data": {
      "text/plain": [
       "(((1527, 64), (1527,)), ((270, 64), (270,)))"
      ]
     },
     "execution_count": 2,
     "metadata": {},
     "output_type": "execute_result"
    }
   ],
   "source": [
    "from sklearn import preprocessing\n",
    "from sklearn.model_selection import train_test_split\n",
    "\n",
    "data = np.asarray(digits.data, dtype='float32')\n",
    "target = np.asarray(digits.target, dtype='int32')\n",
    "\n",
    "X_train, X_test, y_train, y_test = train_test_split(data, target,\n",
    "                                                    test_size=0.15,\n",
    "                                                   random_state=37)\n",
    "# We put a random state to have reproducible results\n",
    "\n",
    "scaler = preprocessing.StandardScaler()\n",
    "X_train = scaler.fit_transform(X_train) # Center and normalize\n",
    "X_test = scaler.fit_transform(X_test)\n",
    "\n",
    "(X_train.shape, y_train.shape), (X_test.shape, y_test.shape)"
   ]
  },
  {
   "cell_type": "code",
   "execution_count": 3,
   "metadata": {},
   "outputs": [],
   "source": [
    "import tensorflow as tf\n",
    "from tensorflow.keras import layers\n",
    "from tensorflow.keras import activations\n",
    "from tensorflow.keras import optimizers"
   ]
  },
  {
   "cell_type": "code",
   "execution_count": 4,
   "metadata": {},
   "outputs": [
    {
     "name": "stdout",
     "output_type": "stream",
     "text": [
      "Activations:  ['relu', 'softmax']\n",
      "Epoch 1/10\n",
      "39/39 [==============================] - 0s 4ms/step - loss: 2.1781 - accuracy: 0.3096 - val_loss: 1.8635 - val_accuracy: 0.6765\n",
      "Epoch 2/10\n",
      "39/39 [==============================] - 0s 1ms/step - loss: 1.7619 - accuracy: 0.7420 - val_loss: 1.6294 - val_accuracy: 0.8627\n",
      "Epoch 3/10\n",
      "39/39 [==============================] - 0s 1ms/step - loss: 1.6120 - accuracy: 0.8665 - val_loss: 1.5662 - val_accuracy: 0.9052\n",
      "Epoch 4/10\n",
      "39/39 [==============================] - 0s 1ms/step - loss: 1.5791 - accuracy: 0.8935 - val_loss: 1.5603 - val_accuracy: 0.9118\n",
      "Epoch 5/10\n",
      "39/39 [==============================] - 0s 1ms/step - loss: 1.5694 - accuracy: 0.9001 - val_loss: 1.5536 - val_accuracy: 0.9118\n",
      "Epoch 6/10\n",
      "39/39 [==============================] - 0s 1ms/step - loss: 1.5566 - accuracy: 0.9156 - val_loss: 1.5387 - val_accuracy: 0.9412\n",
      "Epoch 7/10\n",
      "39/39 [==============================] - 0s 1ms/step - loss: 1.5311 - accuracy: 0.9402 - val_loss: 1.5247 - val_accuracy: 0.9575\n",
      "Epoch 8/10\n",
      "39/39 [==============================] - 0s 1ms/step - loss: 1.5126 - accuracy: 0.9574 - val_loss: 1.5193 - val_accuracy: 0.9510\n",
      "Epoch 9/10\n",
      "39/39 [==============================] - 0s 1ms/step - loss: 1.4967 - accuracy: 0.9738 - val_loss: 1.5145 - val_accuracy: 0.9608\n",
      "Epoch 10/10\n",
      "39/39 [==============================] - 0s 1ms/step - loss: 1.4891 - accuracy: 0.9812 - val_loss: 1.5139 - val_accuracy: 0.9542\n",
      "\n",
      "Activations:  ['sigmoid', 'softmax']\n",
      "Epoch 1/10\n",
      "39/39 [==============================] - 0s 4ms/step - loss: 2.2894 - accuracy: 0.1425 - val_loss: 2.2405 - val_accuracy: 0.2614\n",
      "Epoch 2/10\n",
      "39/39 [==============================] - 0s 1ms/step - loss: 2.2123 - accuracy: 0.3178 - val_loss: 2.1276 - val_accuracy: 0.3464\n",
      "Epoch 3/10\n",
      "39/39 [==============================] - 0s 1ms/step - loss: 2.1018 - accuracy: 0.3923 - val_loss: 2.0127 - val_accuracy: 0.5850\n",
      "Epoch 4/10\n",
      "39/39 [==============================] - 0s 1ms/step - loss: 1.9785 - accuracy: 0.6143 - val_loss: 1.8552 - val_accuracy: 0.7712\n",
      "Epoch 5/10\n",
      "39/39 [==============================] - 0s 1ms/step - loss: 1.8593 - accuracy: 0.7305 - val_loss: 1.7475 - val_accuracy: 0.8431\n",
      "Epoch 6/10\n",
      "39/39 [==============================] - 0s 1ms/step - loss: 1.7830 - accuracy: 0.7625 - val_loss: 1.6906 - val_accuracy: 0.8497\n",
      "Epoch 7/10\n",
      "39/39 [==============================] - 0s 1ms/step - loss: 1.7462 - accuracy: 0.7658 - val_loss: 1.6664 - val_accuracy: 0.8562\n",
      "Epoch 8/10\n",
      "39/39 [==============================] - 0s 1ms/step - loss: 1.7249 - accuracy: 0.7707 - val_loss: 1.6502 - val_accuracy: 0.8562\n",
      "Epoch 9/10\n",
      "39/39 [==============================] - 0s 1ms/step - loss: 1.7055 - accuracy: 0.7895 - val_loss: 1.6353 - val_accuracy: 0.8856\n",
      "Epoch 10/10\n",
      "39/39 [==============================] - 0s 1ms/step - loss: 1.6723 - accuracy: 0.8509 - val_loss: 1.6235 - val_accuracy: 0.9052\n",
      "\n",
      "Activations:  ['tanh', 'softmax']\n",
      "Epoch 1/10\n",
      "39/39 [==============================] - 0s 3ms/step - loss: 2.1249 - accuracy: 0.4382 - val_loss: 1.7940 - val_accuracy: 0.7843\n",
      "Epoch 2/10\n",
      "39/39 [==============================] - 0s 1ms/step - loss: 1.7373 - accuracy: 0.7871 - val_loss: 1.6266 - val_accuracy: 0.8922\n",
      "Epoch 3/10\n",
      "39/39 [==============================] - 0s 1ms/step - loss: 1.6332 - accuracy: 0.8640 - val_loss: 1.5890 - val_accuracy: 0.9052\n",
      "Epoch 4/10\n",
      "39/39 [==============================] - 0s 1ms/step - loss: 1.6018 - accuracy: 0.8821 - val_loss: 1.5731 - val_accuracy: 0.9118\n",
      "Epoch 5/10\n",
      "39/39 [==============================] - 0s 1ms/step - loss: 1.5908 - accuracy: 0.8870 - val_loss: 1.5667 - val_accuracy: 0.9150\n",
      "Epoch 6/10\n",
      "39/39 [==============================] - 0s 1ms/step - loss: 1.5840 - accuracy: 0.8903 - val_loss: 1.5628 - val_accuracy: 0.9150\n",
      "Epoch 7/10\n",
      "39/39 [==============================] - 0s 1ms/step - loss: 1.5788 - accuracy: 0.8927 - val_loss: 1.5591 - val_accuracy: 0.9150\n",
      "Epoch 8/10\n",
      "39/39 [==============================] - 0s 1ms/step - loss: 1.5753 - accuracy: 0.8935 - val_loss: 1.5563 - val_accuracy: 0.9183\n",
      "Epoch 9/10\n",
      "39/39 [==============================] - 0s 1ms/step - loss: 1.5718 - accuracy: 0.8960 - val_loss: 1.5547 - val_accuracy: 0.9183\n",
      "Epoch 10/10\n",
      "39/39 [==============================] - 0s 1ms/step - loss: 1.5680 - accuracy: 0.8968 - val_loss: 1.5526 - val_accuracy: 0.9183\n",
      "\n"
     ]
    }
   ],
   "source": [
    "hidden_size = 15\n",
    "\n",
    "activations_list = [\n",
    "    ['relu', 'softmax'],\n",
    "    ['sigmoid', 'softmax'],\n",
    "    ['tanh', 'softmax']\n",
    "]\n",
    "\n",
    "for activations in activations_list:\n",
    "    model = tf.keras.Sequential()\n",
    "    model.add(layers.Dense(hidden_size, input_dim=X_train.shape[1], activation=activations[0]))\n",
    "    model.add(layers.Dense(10, activation=activations[1]))\n",
    "\n",
    "\n",
    "    loss_function = tf.keras.losses.SparseCategoricalCrossentropy(from_logits=True)\n",
    "    model.compile(optimizer=optimizers.SGD(learning_rate=0.1,\n",
    "                                           momentum=0.9,\n",
    "                                           nesterov=True),\n",
    "                  loss=loss_function,\n",
    "                 metrics=['accuracy'])\n",
    "    print(\"Activations: \", activations)\n",
    "    model.fit(X_train, y_train, validation_split=0.2, batch_size=32, epochs=10)\n",
    "    print()\n",
    "    "
   ]
  },
  {
   "cell_type": "code",
   "execution_count": null,
   "metadata": {},
   "outputs": [],
   "source": []
  }
 ],
 "metadata": {
  "kernelspec": {
   "display_name": "Python 3",
   "language": "python",
   "name": "python3"
  },
  "language_info": {
   "codemirror_mode": {
    "name": "ipython",
    "version": 3
   },
   "file_extension": ".py",
   "mimetype": "text/x-python",
   "name": "python",
   "nbconvert_exporter": "python",
   "pygments_lexer": "ipython3",
   "version": "3.6.9"
  }
 },
 "nbformat": 4,
 "nbformat_minor": 2
}
