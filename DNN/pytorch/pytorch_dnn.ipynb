{
 "cells": [
  {
   "cell_type": "code",
   "execution_count": 14,
   "metadata": {},
   "outputs": [],
   "source": [
    "import torch\n",
    "import torch.nn as nn\n",
    "import torch.nn.functional as F\n",
    "from torch.optim import SGD # Optimizer\n",
    "import numpy as np"
   ]
  },
  {
   "cell_type": "code",
   "execution_count": 15,
   "metadata": {},
   "outputs": [
    {
     "data": {
      "text/plain": [
       "Text(0.5, 1.0, 'Image Label: 0')"
      ]
     },
     "execution_count": 15,
     "metadata": {},
     "output_type": "execute_result"
    },
    {
     "data": {
      "image/png": "[encoded data removed]",
      "text/plain": [
       "<Figure size 216x216 with 1 Axes>"
      ]
     },
     "metadata": {
      "needs_background": "light"
     },
     "output_type": "display_data"
    }
   ],
   "source": [
    "# Prepare the data\n",
    "from sklearn.datasets import load_digits\n",
    "import matplotlib.pyplot as plt\n",
    "\n",
    "digits = load_digits()\n",
    "\n",
    "sample_idx = 0\n",
    "\n",
    "plt.figure(figsize=(3,3))\n",
    "plt.imshow(digits.images[sample_idx], cmap=plt.cm.gray_r,\n",
    "          interpolation='nearest')\n",
    "\n",
    "plt.title(f\"Image Label: {digits.target[sample_idx]}\")"
   ]
  },
  {
   "cell_type": "code",
   "execution_count": 16,
   "metadata": {},
   "outputs": [
    {
     "data": {
      "text/plain": [
       "(((1527, 64), (1527,)), ((270, 64), (270,)))"
      ]
     },
     "execution_count": 16,
     "metadata": {},
     "output_type": "execute_result"
    }
   ],
   "source": [
    "from sklearn import preprocessing\n",
    "from sklearn.model_selection import train_test_split\n",
    "\n",
    "data = np.asarray(digits.data, dtype='float32')\n",
    "target = np.asarray(digits.target, dtype='int32')\n",
    "\n",
    "X_train, X_test, y_train, y_test = train_test_split(data, target,\n",
    "                                                    test_size=0.15,\n",
    "                                                   random_state=37)\n",
    "# We put a random state to have reproducible results\n",
    "\n",
    "scaler = preprocessing.StandardScaler()\n",
    "X_train = scaler.fit_transform(X_train) # Center and normalize\n",
    "X_test = scaler.fit_transform(X_test)\n",
    "\n",
    "(X_train.shape, y_train.shape), (X_test.shape, y_test.shape)"
   ]
  },
  {
   "cell_type": "code",
   "execution_count": 115,
   "metadata": {},
   "outputs": [],
   "source": [
    "from torch.utils.data import DataLoader\n",
    "\n",
    "def gen_dataset(x, y, batch_size=32):\n",
    "    train_data = []\n",
    "    for i in range(len(x)):\n",
    "        train_data.append([x[i], y[i]])\n",
    "        \n",
    "    return DataLoader(train_data, batch_size=batch_size, shuffle=True)\n",
    "\n",
    "def apply_activation(activation, z_n):\n",
    "    dic = {\n",
    "        \"relu\": nn.ReLU,\n",
    "        \"sigmoid\": nn.Sigmoid,\n",
    "        \"softmax\": nn.Softmax,\n",
    "        \"tanh\": nn.Tanh,\n",
    "        # Add more of your functions if you need\n",
    "    }\n",
    "    return dic[activation](z_n) # Put your parameters if needed\n",
    "\n",
    "def accuracy(y_pred, y):\n",
    "    return np.mean(np.argmax(y_pred, axis=1) == y)\n",
    "\n",
    "def test_model(model, x, y):\n",
    "    dataset = gen_dataset(x, y)\n",
    "    preds, targets = [], []\n",
    "    for batch_x, batch_y in dataset:\n",
    "        preds.append(model(batch_x).detach().numpy())\n",
    "        targets.append(batch_y.numpy())\n",
    "     \n",
    "    preds, targets = np.concatenate(preds), np.concatenate(targets)\n",
    "    return accuracy(preds, targets)"
   ]
  },
  {
   "cell_type": "code",
   "execution_count": 116,
   "metadata": {},
   "outputs": [],
   "source": [
    "class L_Layer_Model:\n",
    "    def __init__(self, layers):\n",
    "        orderedDic\n",
    "        \n",
    "        \n",
    "        self.model = nn.Sequential(\n",
    "            nn.Linear(layers[0], layers[1]),\n",
    "            nn.ReLU(),\n",
    "            nn.Linear(layers[1], layers[2])\n",
    "        )\n",
    "    def __call__(self, inputs):\n",
    "        return self.model(inputs)\n",
    "    \n",
    "    def train(self, x, y, \n",
    "              num_epochs=10, \n",
    "              learning_rate=0.1,\n",
    "              loss_fn=nn.CrossEntropyLoss()):\n",
    "        train_dl = gen_dataset(x, y)\n",
    "        \n",
    "        for e in range(num_epochs):\n",
    "            for (inputs, targets) in train_dl:\n",
    "                y_pred = self.model(inputs)\n",
    "                \n",
    "                loss = loss_fn(y_pred, targets.to(dtype=torch.long))\n",
    "\n",
    "                self.model.zero_grad()\n",
    "\n",
    "                loss.backward()\n",
    "                with torch.no_grad():\n",
    "                    for param in self.model.parameters():\n",
    "                        param -= learning_rate * param.grad\n",
    "                        \n",
    "    def predict(self, x):\n",
    "        return self.model(x)"
   ]
  },
  {
   "cell_type": "code",
   "execution_count": 118,
   "metadata": {},
   "outputs": [
    {
     "name": "stdout",
     "output_type": "stream",
     "text": [
      "Accuracy before train:  0.05925925925925926\n",
      "Accuracy after train:  0.9629629629629629\n"
     ]
    }
   ],
   "source": [
    "layers = [X_train.shape[1], 15, 10]\n",
    "\n",
    "model = L_Layer_Model([X_train.shape[1], 15, 10])\n",
    "print(\"Accuracy before train: \", test_model(model, X_test, y_test))\n",
    "\n",
    "model.train(X_train, y_train)\n",
    "\n",
    "print(\"Accuracy after train: \", test_model(model, X_test, y_test))"
   ]
  },
  {
   "cell_type": "code",
   "execution_count": null,
   "metadata": {},
   "outputs": [],
   "source": []
  }
 ],
 "metadata": {
  "kernelspec": {
   "display_name": "Python 3",
   "language": "python",
   "name": "python3"
  },
  "language_info": {
   "codemirror_mode": {
    "name": "ipython",
    "version": 3
   },
   "file_extension": ".py",
   "mimetype": "text/x-python",
   "name": "python",
   "nbconvert_exporter": "python",
   "pygments_lexer": "ipython3",
   "version": "3.6.9"
  }
 },
 "nbformat": 4,
 "nbformat_minor": 2
}
